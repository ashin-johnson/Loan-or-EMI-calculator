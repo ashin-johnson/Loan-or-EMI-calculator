{
 "cells": [
  {
   "cell_type": "code",
   "execution_count": 55,
   "id": "916d8851",
   "metadata": {},
   "outputs": [],
   "source": [
    "import pandas as pd\n",
    "import numpy as np"
   ]
  },
  {
   "cell_type": "markdown",
   "id": "b3631ab3",
   "metadata": {},
   "source": [
    "Input parameters"
   ]
  },
  {
   "cell_type": "code",
   "execution_count": null,
   "id": "ed04721a",
   "metadata": {},
   "outputs": [],
   "source": [
    "#input parameters\n",
    "# #loan amount\n",
    "amount = 384737\n",
    "\n",
    "#maturity (in months)\n",
    "maturity = 244\n",
    "\n",
    "#yerarly interest rate\n",
    "ir_y = 0.06493\n",
    "\n",
    "#Monthly interest rate\n",
    "ir_m = ir_y / 12\n"
   ]
  },
  {
   "cell_type": "code",
   "execution_count": 57,
   "id": "e976015c",
   "metadata": {},
   "outputs": [],
   "source": [
    "p = amount\n",
    "r = ir_m\n",
    "m = maturity"
   ]
  },
  {
   "cell_type": "code",
   "execution_count": 58,
   "id": "830dd232",
   "metadata": {},
   "outputs": [
    {
     "name": "stdout",
     "output_type": "stream",
     "text": [
      "     month remaining_principal monthly_principal monthly_interest     annuity\n",
      "0        1               50000        164.862194       270.416667  435.278861\n",
      "1        2        49835.137806        165.753824       269.525037  435.278861\n",
      "2        3        49669.383982        166.650276       268.628585  435.278861\n",
      "3        4        49502.733706        167.551576       267.727285  435.278861\n",
      "4        5         49335.18213        168.457751        266.82111  435.278861\n",
      "..     ...                 ...               ...              ...         ...\n",
      "175    176         2141.523151         423.69679        11.582071  435.278861\n",
      "176    177         1717.826361        425.988283         9.290578  435.278861\n",
      "177    178         1291.838078         428.29217         6.986691  435.278861\n",
      "178    179          863.545908        430.608517         4.670344  435.278861\n",
      "179    180          432.937391        432.937391          2.34147  435.278861\n",
      "\n",
      "[180 rows x 5 columns]\n"
     ]
    }
   ],
   "source": [
    "#loan repayment function\n",
    "def create_repayment_plan(p, r, m):\n",
    "    #p -loan amount\n",
    "    #r - monthly interest rate\n",
    "    #m - loan maturity in months\n",
    "\n",
    "    # annuity\n",
    "    annuity = p * r / (1 - (1 + r) ** (-m))\n",
    "\n",
    "    #prepare the repayment plan data frame\n",
    "    rp = pd.DataFrame({\"month\" : [*range(1, m + 1)],\n",
    "                       \"remaining_principal\" : [None]*m,\n",
    "                       \"monthly_principal\" : [None]*m,\n",
    "                       \"monthly_interest\" : [None]*m,\n",
    "                       \"annuity\" : [annuity]*m\n",
    "                       })\n",
    "    #assign loan amount as a starting principal\n",
    "    rp.loc[0, \"remaining_principal\"] = p\n",
    "    #construct the repayment plan\n",
    "    for i in rp.index:\n",
    "        if (i == rp.index[-1]):\n",
    "            rp.loc[i, \"monthly_principal\"] = rp.remaining_principal[i]\n",
    "            rp.loc[i, \"monthly_interest\"] = rp.annuity[i] - \\\n",
    "                                            rp.monthly_principal[i]\n",
    "        else:\n",
    "            rp.loc[i, \"monthly_interest\"] = rp.remaining_principal[i] * r\n",
    "            rp.loc[i, \"monthly_principal\"] = rp.annuity[i] - \\\n",
    "                                             rp.monthly_interest[i]\n",
    "            rp.loc[i + 1, \"remaining_principal\"] = rp.remaining_principal[i] - \\\n",
    "                                                   rp.monthly_principal[i]\n",
    "    return(rp)\n",
    "\n",
    "    #create repayment plan\n",
    "    \n",
    "    rp = create_repayment_plan(p = amount,\n",
    "                               r = ir_m,\n",
    "                               m = maturity)\n",
    "    rp                           \n",
    "\n",
    "# Create repayment plan\n",
    "rp = create_repayment_plan(p=amount, r=ir_m, m=maturity)\n",
    "\n",
    "# Show first few rows\n",
    "print(rp)\n"
   ]
  },
  {
   "cell_type": "code",
   "execution_count": 59,
   "id": "4a2092a9",
   "metadata": {},
   "outputs": [
    {
     "data": {
      "text/plain": [
       "50000.000000000895"
      ]
     },
     "execution_count": 59,
     "metadata": {},
     "output_type": "execute_result"
    }
   ],
   "source": [
    "#check net present value of the cash flow\n",
    "np.sum(rp[\"annuity\"] / (1 + ir_m) ** np.arange(1, maturity +1))"
   ]
  }
 ],
 "metadata": {
  "kernelspec": {
   "display_name": "base",
   "language": "python",
   "name": "python3"
  },
  "language_info": {
   "codemirror_mode": {
    "name": "ipython",
    "version": 3
   },
   "file_extension": ".py",
   "mimetype": "text/x-python",
   "name": "python",
   "nbconvert_exporter": "python",
   "pygments_lexer": "ipython3",
   "version": "3.12.7"
  }
 },
 "nbformat": 4,
 "nbformat_minor": 5
}
